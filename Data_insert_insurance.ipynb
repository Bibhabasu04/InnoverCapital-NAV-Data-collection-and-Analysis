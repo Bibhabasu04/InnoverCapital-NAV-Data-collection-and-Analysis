{
 "cells": [
  {
   "cell_type": "code",
   "execution_count": 1,
   "id": "ecc9d178-e700-4eba-a150-9a0fc3af94e0",
   "metadata": {
    "jupyter": {
     "source_hidden": true
    }
   },
   "outputs": [],
   "source": [
    "# Start: Import Libraries\n",
    "# ---------------------------\n",
    "import os\n",
    "import pandas as pd\n",
    "import datetime\n",
    "from openpyxl import load_workbook\n",
    "from datetime import datetime, timedelta\n",
    "from dateutil.relativedelta import relativedelta\n",
    "from reportlab.lib import colors\n",
    "from reportlab.lib.pagesizes import A4\n",
    "from reportlab.platypus import SimpleDocTemplate, Table, TableStyle, Paragraph, Spacer\n",
    "from reportlab.lib.styles import getSampleStyleSheet"
   ]
  },
  {
   "cell_type": "code",
   "execution_count": 2,
   "id": "5788f5f3-9aff-4393-9bb3-655c55f879da",
   "metadata": {
    "jupyter": {
     "source_hidden": true
    }
   },
   "outputs": [],
   "source": [
    "# Part 0: Latest Data Insertion\n",
    "# ---------------------------\n",
    "def append_value_with_date(file1_path, file2_path, sheet1_name, row1_number, sheet2_name, row2_number):\n",
    "    \"\"\"\n",
    "    Appends the last non-empty cell (as text) from a specified row of file1 to the next available cell \n",
    "    in a specified row of file2, and writes today's date (dd/mm/yyyy) as text in the cell immediately above.\n",
    "    \n",
    "    Parameters:\n",
    "        file1_path (str): Path to the first Excel file.\n",
    "        file2_path (str): Path to the second Excel file.\n",
    "        sheet1_name (str): Sheet name in the first file to read from.\n",
    "        row1_number (int): Row number in the first file to look for the last value.\n",
    "        sheet2_name (str): Sheet name in the second file to write to.\n",
    "        row2_number (int): Row number in the second file where the value is to be appended.\n",
    "    \"\"\"\n",
    "    \n",
    "    # Open file1 and get the specified sheet.\n",
    "    wb1 = load_workbook(file1_path, data_only=True)\n",
    "    if sheet1_name not in wb1.sheetnames:\n",
    "        raise ValueError(f\"Sheet '{sheet1_name}' not found in {file1_path}.\")\n",
    "    ws1 = wb1[sheet1_name]\n",
    "    \n",
    "    # Retrieve all cells in the specified row of file1.\n",
    "    row_cells = ws1[row1_number]\n",
    "    last_value = None\n",
    "    for cell in row_cells:\n",
    "        if cell.value is not None:\n",
    "            last_value = cell.value  # This overwrites until the last non-empty cell is reached.\n",
    "    \n",
    "    if last_value is None:\n",
    "        raise ValueError(f\"No value found in row {row1_number} of sheet '{sheet1_name}' in {file1_path}.\")\n",
    "    \n",
    "    # Open file2 and get the specified sheet.\n",
    "    wb2 = load_workbook(file2_path)\n",
    "    if sheet2_name not in wb2.sheetnames:\n",
    "        raise ValueError(f\"Sheet '{sheet2_name}' not found in {file2_path}.\")\n",
    "    ws2 = wb2[sheet2_name]\n",
    "    \n",
    "    # Find the last non-empty cell in the specified row of file2.\n",
    "    row_cells_file2 = ws2[row2_number]\n",
    "    last_col_index = 0\n",
    "    for cell in row_cells_file2:\n",
    "        if cell.value is not None:\n",
    "            if cell.column > last_col_index:\n",
    "                last_col_index = cell.column\n",
    "    \n",
    "    # The new value will be written in the next column.\n",
    "    new_col = last_col_index + 1\n",
    "    \n",
    "    # Write the retrieved value (as text) into the target cell.\n",
    "    ws2.cell(row=row2_number, column=new_col, value=str(last_value))\n",
    "    \n",
    "    # Write today's date (dd/mm/yyyy) in the cell immediately above the newly written value.\n",
    "    if row2_number > 1:\n",
    "        today_str = (datetime.today() - timedelta(days=1)).strftime(\"%d/%m/%Y\")\n",
    "        ws2.cell(row=row2_number - 1, column=new_col, value=today_str)\n",
    "    else:\n",
    "        print(\"Warning: Target row is 1. Cannot insert date in the row above.\")\n",
    "    \n",
    "    # Save the modified file2.\n",
    "    wb2.save(file2_path)\n",
    "    # print(f\"Appended value '{last_value}' from {file1_path} to {file2_path} (Sheet: '{sheet2_name}', Row: {row2_number}).\")"
   ]
  },
  {
   "cell_type": "markdown",
   "id": "1542767a-9d22-4179-b64a-f2ce4be6e36b",
   "metadata": {},
   "source": [
    "### Warning !! : Remember to Adjust the following cell before Running the code"
   ]
  },
  {
   "cell_type": "code",
   "execution_count": 3,
   "id": "a2a0f76e-f8e8-4ee5-aaf8-7c20e3002f90",
   "metadata": {},
   "outputs": [],
   "source": [
    "## Uncomment whatever fund you want to exclude from data insertion, \n",
    "## if none comment all before proceeding\n",
    "\n",
    "exclude_from_data_insertion = [\n",
    "    # \"HDFC\", \n",
    "    # \"ICICI\", \n",
    "    # \"Kotak\", \n",
    "    # \"Maxlife\",\n",
    "    # \"Birla\", \n",
    "    # \"Tata\", \n",
    "    # \"SBI\", \n",
    "    # \"Bajaj\", \n",
    "    # \"PNB\", \n",
    "    # \"LIC\"\n",
    "]"
   ]
  },
  {
   "cell_type": "markdown",
   "id": "33a720fd-2b7f-47f2-8302-9dcdd8feabf9",
   "metadata": {},
   "source": [
    "### If you mess up this adjustment before running the code, use the \"Advanced Funds - Copy\" file to restore the previous version of \"Advanced Funds\" file manually, before running the code again"
   ]
  },
  {
   "cell_type": "code",
   "execution_count": 4,
   "id": "f5f38871-b314-4176-8916-990281284a61",
   "metadata": {
    "jupyter": {
     "source_hidden": true
    }
   },
   "outputs": [
    {
     "name": "stdout",
     "output_type": "stream",
     "text": [
      "1 2 3 4 5 6 7 8 9 10 11 12 13 14 15 16 17 18 19 "
     ]
    }
   ],
   "source": [
    "# Example usage:\n",
    "if __name__ == \"__main__\":\n",
    "    # Replace with your actual file paths, sheet names, and row numbers.\n",
    "    file1 = \"D:/Innover/Insurance NAV.xlsx\"\n",
    "    \n",
    "    file2 = \"D:/Innover/Advanced_funds.xlsx\"\n",
    "    file2_copy = \"D:/Innover/Advanced_funds - Copy.xlsx\"\n",
    "\n",
    "    wb = load_workbook(file2)\n",
    "    wb.save(file2_copy)\n",
    "    exclude_from_data_insertion.append(None)\n",
    "    # row1_list = [[4, 3, 2, 26, 37, 10, 21, 13, 13, 5, 8, 9, 2, 12, 55], [27, 38], [35, 21]] \n",
    "    row1_list = [[4, 3, 2, 29, 31, 10, 21, 13, 13, 5, 8, 9, 2, 12, 55], [32, 38], [16, 21]]\n",
    "    sheet1_list = [[\"HDFC\",\"HDFC\", \"HDFC\", \"ICICI\", \"ICICI\", \"Kotak\", \"Maxlife\",\n",
    "                    \"Birla\", \"Tata\", \"SBI\", \"SBI\", \"SBI\", \"Bajaj\", \"PNB\", \"LIC\"],\n",
    "                   [\"ICICI\", \"SBI\"],\n",
    "                    [\"ICICI\", \"Kotak\"]] \n",
    "    sheet2_list = [\"Medium to Long Duration Funds\", \"Money Market Funds\", \"Group Funds\"]\n",
    "    \n",
    "    row2_list = [[3,5,7,9,11,13,15,17,19,21,23,25,27,29,31], [3,5], [3,5]]\n",
    "    \n",
    "    count = 0\n",
    "    for i in range(3):\n",
    "        sheet2 = sheet2_list[i]\n",
    "        for j in range(len(row2_list[i])):\n",
    "            row2 = row2_list[i][j] + 1\n",
    "            row1 = row1_list[i][j]\n",
    "            sheet1 = sheet1_list[i][j]\n",
    "            \n",
    "            if sheet1 not in exclude_from_data_insertion:\n",
    "                append_value_with_date(file1, file2, sheet1, row1, sheet2, row2)\n",
    "                \n",
    "            count += 1\n",
    "            print(count, end = \" \")"
   ]
  }
 ],
 "metadata": {
  "kernelspec": {
   "display_name": "Python 3 (ipykernel)",
   "language": "python",
   "name": "python3"
  },
  "language_info": {
   "codemirror_mode": {
    "name": "ipython",
    "version": 3
   },
   "file_extension": ".py",
   "mimetype": "text/x-python",
   "name": "python",
   "nbconvert_exporter": "python",
   "pygments_lexer": "ipython3",
   "version": "3.11.3"
  }
 },
 "nbformat": 4,
 "nbformat_minor": 5
}
